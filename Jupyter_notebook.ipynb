{
 "cells": [
  {
   "cell_type": "markdown",
   "id": "484c1a24",
   "metadata": {},
   "source": [
    "## 1. Summary\n",
    "This report documents a stock portfolio management system built using SQL queries with fictional data. The project demonstrates my ability to manage investment data, calculate key financial metrics, and generate actionable insights for portfolio analysis and risk management."
   ]
  },
  {
   "cell_type": "markdown",
   "id": "f90ec9f1",
   "metadata": {},
   "source": [
    "## 2. Database Schema Overview\n"
   ]
  },
  {
   "cell_type": "markdown",
   "id": "f01d1fc3",
   "metadata": {},
   "source": [
    "## 3. Project Objectives:\n",
    "\n",
    "- Track portfolio value and daily changes\n",
    "- Analyze daily returns and volatility\n",
    "- Identify diversification issues\n",
    "- Quantify the impact of trading commissions\n",
    "- Generate trading signals based on moving averages\n",
    "- Separate realized and unrealized gains"
   ]
  },
  {
   "cell_type": "markdown",
   "id": "7dcac70b",
   "metadata": {},
   "source": [
    "## 4. Project\n",
    "\n",
    "I first created two views of data used in different queries in the analysis:\n",
    "- One for valuation over time for each portfolio/user\n",
    "- One for daily returns"
   ]
  },
  {
   "cell_type": "code",
   "execution_count": null,
   "id": "5e98e9fc",
   "metadata": {
    "vscode": {
     "languageId": "sql"
    }
   },
   "outputs": [],
   "source": [
    "CREATE OR ALTER VIEW valuation_over_time AS\n",
    "SELECT p.user_id,\n",
    "        sph.trade_date,\n",
    "        SUM(p.quantity * sph.close_price) as portfolio_value,\n",
    "        ROUND(SUM(p.quantity * sph.close_price) - LAG(SUM(p.quantity * sph.close_price)) OVER (PARTITION BY p.user_id ORDER BY sph.trade_date), 2) as daily_change\n",
    "    FROM portfolio as p\n",
    "    JOIN stock_price_history as sph ON p.stock_id = sph.stock_id\n",
    "    GROUP BY p.user_id, sph.trade_date\n",
    "GO\n",
    "\n",
    "\n",
    "CREATE OR ALTER VIEW daily_returns AS \n",
    "    SELECT\n",
    "        trade_date,\n",
    "        user_id,\n",
    "        ROUND((portfolio_value - LAG(portfolio_value) OVER (PARTITION BY user_id ORDER BY trade_date))\n",
    "        / NULLIF(LAG(portfolio_value) OVER (PARTITION BY user_id ORDER BY trade_date), 0), 2) as daily_return\n",
    "    FROM valuation_over_time\n",
    "GO"
   ]
  },
  {
   "cell_type": "markdown",
   "id": "fd2bee6a",
   "metadata": {},
   "source": [
    "### Valuation Over Time For All Portfolios Combined\n",
    "\n",
    "I started with a CTE for total daily valuation for all portfolios combined.\n",
    "I then added columns for total daily changes in values and in percentages, and cumulative returns."
   ]
  },
  {
   "cell_type": "code",
   "execution_count": null,
   "id": "c876f4ec",
   "metadata": {
    "vscode": {
     "languageId": "sql"
    }
   },
   "outputs": [],
   "source": [
    "WITH daily_totals AS (\n",
    "SELECT \n",
    "    trade_date,\n",
    "    SUM(portfolio_value) as total_valuation\n",
    "FROM valuation_over_time\n",
    "GROUP BY trade_date\n",
    ")\n",
    "\n",
    "SELECT\n",
    "    trade_date,\n",
    "    total_valuation,\n",
    "    ROUND(total_valuation - LAG(total_valuation) OVER (ORDER BY trade_date), 2) as total_daily_change_value,\n",
    "    ROUND((total_valuation - LAG(total_valuation) OVER (ORDER BY trade_date))\n",
    "        / NULLIF(LAG(total_valuation) OVER (ORDER BY trade_date), 0) * 100, 2) as total_daily_change_percent,\n",
    "    ROUND((total_valuation - FIRST_VALUE(total_valuation) OVER (ORDER BY trade_date))\n",
    "        / NULLIF(FIRST_VALUE(total_valuation) OVER (ORDER BY trade_date), 0) * 100, 2) as cumulative_return\n",
    "FROM daily_totals\n",
    "ORDER BY trade_date DESC\n",
    ";"
   ]
  },
  {
   "cell_type": "markdown",
   "id": "59ecaa62",
   "metadata": {},
   "source": [
    "#### Sample results:\n",
    "\n",
    "![Valuation over time](C:\\SQL Projects\\sample_results\\1_valuation_over_time.png)"
   ]
  },
  {
   "cell_type": "markdown",
   "id": "ef218806",
   "metadata": {},
   "source": [
    "### Portfolio Valuation Per User\n",
    "\n",
    "For this analysis I copied pasted the previous query adding \"PARTITION BY user_id\" for each calculation to get valuations for each user's portfolio."
   ]
  },
  {
   "cell_type": "code",
   "execution_count": null,
   "id": "79e82882",
   "metadata": {
    "vscode": {
     "languageId": "sql"
    }
   },
   "outputs": [],
   "source": [
    "WITH daily_totals AS (\n",
    "SELECT \n",
    "    user_id,\n",
    "    trade_date,\n",
    "    SUM(portfolio_value) as total_valuation\n",
    "FROM valuation_over_time\n",
    "GROUP BY user_id, trade_date\n",
    ")\n",
    "\n",
    "SELECT\n",
    "    user_id,\n",
    "    trade_date,\n",
    "    total_valuation,\n",
    "    ROUND(total_valuation - LAG(total_valuation) OVER (PARTITION BY user_id ORDER BY trade_date), 2) as daily_change_value,\n",
    "    ROUND((total_valuation - LAG(total_valuation) OVER (PARTITION BY user_id ORDER BY trade_date))\n",
    "        / NULLIF(LAG(total_valuation) OVER (PARTITION BY user_id ORDER BY trade_date), 0) * 100, 2) as daily_change_percent,\n",
    "    ROUND((total_valuation - FIRST_VALUE(total_valuation) OVER (PARTITION BY user_id ORDER BY trade_date))\n",
    "        / NULLIF(FIRST_VALUE(total_valuation) OVER (PARTITION BY user_id ORDER BY trade_date), 0) * 100, 2) as cumulative_return\n",
    "FROM daily_totals\n",
    "ORDER BY user_id, trade_date DESC\n",
    ";"
   ]
  },
  {
   "cell_type": "markdown",
   "id": "9a930194",
   "metadata": {},
   "source": [
    "#### Sample results:\n",
    "\n",
    "![Valuation per user](C:\\SQL Projects\\sample_results\\1_valuation_users.png)"
   ]
  },
  {
   "cell_type": "markdown",
   "id": "b4abb2ae",
   "metadata": {},
   "source": [
    "### Risk Metrics\n",
    "\n",
    "#### 1. Standard Deviation using STDEV() on daily_return from the daily_returns view"
   ]
  },
  {
   "cell_type": "code",
   "execution_count": null,
   "id": "fd63eff8",
   "metadata": {
    "vscode": {
     "languageId": "sql"
    }
   },
   "outputs": [],
   "source": [
    "SELECT\n",
    "    user_id,\n",
    "    ROUND(STDEV(daily_return), 4) as volatility\n",
    "FROM daily_returns\n",
    "WHERE daily_return IS NOT NULL\n",
    "GROUP BY user_id\n",
    "GO"
   ]
  },
  {
   "cell_type": "markdown",
   "id": "23411041",
   "metadata": {},
   "source": [
    "![Sample Chart](chart.png)"
   ]
  },
  {
   "cell_type": "markdown",
   "id": "1c1bb99f",
   "metadata": {},
   "source": [
    "#### 2. Drawdowns\n",
    "\n",
    "To compute drawdowns I created two CTEs, one to find the running maximum for each portfolio and trade date, and one to calculate the drawdowns. I then had to find minimum drawdown percents to find the maximum drawdowns for each portfolio."
   ]
  },
  {
   "cell_type": "code",
   "execution_count": null,
   "id": "94b4fd64",
   "metadata": {
    "vscode": {
     "languageId": "sql"
    }
   },
   "outputs": [],
   "source": [
    "WITH running_max AS (\n",
    "    SELECT\n",
    "        user_id,\n",
    "        trade_date,\n",
    "        portfolio_value,\n",
    "        MAX(portfolio_value) OVER (PARTITION BY user_id ORDER BY trade_date) as max_to_date\n",
    "    FROM valuation_over_time\n",
    ")\n",
    ",\n",
    "\n",
    "drawdowns AS (\n",
    "    SELECT \n",
    "        user_id,\n",
    "        trade_date,\n",
    "        portfolio_value,\n",
    "        max_to_date,\n",
    "        ROUND((portfolio_value - max_to_date) / NULLIF(max_to_date, 0) * 100, 2) as drawdown_percent\n",
    "    FROM running_max\n",
    ")\n",
    "\n",
    "SELECT\n",
    "    user_id,\n",
    "    MIN(drawdown_percent) as max_drawdown\n",
    "FROM drawdowns\n",
    "GROUP BY user_id\n",
    "GO"
   ]
  },
  {
   "cell_type": "markdown",
   "id": "44d3ad33",
   "metadata": {},
   "source": [
    "#### 3. Value at Risk 95\n",
    "\n",
    "The query uses a subquery to get each user’s VaR at 95% confidence with PERCENTILE_CONT(0.05) on daily returns. I added a row number to select only one row per user with \"WHERE rn = 1\" and avoid duplicates in the output."
   ]
  },
  {
   "cell_type": "code",
   "execution_count": null,
   "id": "597da3b0",
   "metadata": {
    "vscode": {
     "languageId": "sql"
    }
   },
   "outputs": [],
   "source": [
    "SELECT\n",
    "    user_id,\n",
    "    var_95\n",
    "FROM (\n",
    "    SELECT\n",
    "        user_id,\n",
    "        PERCENTILE_CONT(0.05) WITHIN GROUP (ORDER BY daily_return) OVER (PARTITION BY user_id) AS var_95,\n",
    "        ROW_NUMBER() OVER (PARTITION BY user_id ORDER BY trade_date) AS rn\n",
    "    FROM daily_returns\n",
    "    WHERE daily_return IS NOT NULL\n",
    ") ranked\n",
    "WHERE rn = 1\n",
    ";\n"
   ]
  },
  {
   "cell_type": "markdown",
   "id": "17190ca1",
   "metadata": {},
   "source": [
    "### Concentration Risks\n",
    "\n",
    "The following query identifies stocks exceeding 10% of portfolio value to highlight diversification issues. To do so I joined two tables together, portfolio and company (to get each stock_id's name), and had to perform a join on a new table created out of joining the same two original tables to divide by the total values of each portfolio. Note: I could have used a view created earlier or a CTE, but the goal here was to demonstrate different querying techniques."
   ]
  },
  {
   "cell_type": "code",
   "execution_count": null,
   "id": "99a27833",
   "metadata": {
    "vscode": {
     "languageId": "sql"
    }
   },
   "outputs": [],
   "source": [
    "SELECT \n",
    "    p.user_id,\n",
    "    c.stock_name,\n",
    "    ROUND((SUM(p.quantity * c.stock_price) / user_totals.total_value) * 100, 2) AS portfolio_percentage\n",
    "FROM portfolio p\n",
    "JOIN company c ON p.stock_id = c.stock_id\n",
    "JOIN (\n",
    "    SELECT \n",
    "        user_id, \n",
    "        SUM(p2.quantity * c2.stock_price) AS total_value\n",
    "    FROM portfolio p2\n",
    "    JOIN company c2 ON p2.stock_id = c2.stock_id\n",
    "    GROUP BY user_id\n",
    ") AS user_totals ON p.user_id = user_totals.user_id\n",
    "GROUP BY p.user_id, c.stock_name, user_totals.total_value\n",
    "HAVING ROUND((SUM(p.quantity * c.stock_price) / user_totals.total_value) * 100, 2) > 10\n",
    ";"
   ]
  },
  {
   "cell_type": "markdown",
   "id": "04d39b0c",
   "metadata": {},
   "source": [
    "### Transaction Cost Impact\n",
    "\n",
    "I then quantified how trading commissions impact overall returns with simple techniques."
   ]
  },
  {
   "cell_type": "code",
   "execution_count": null,
   "id": "65ebda48",
   "metadata": {
    "vscode": {
     "languageId": "sql"
    }
   },
   "outputs": [],
   "source": [
    "SELECT\n",
    "    user_id,\n",
    "    SUM(commission) as total_commissions,\n",
    "    ROUND(SUM(commission) / SUM(ABS(quantity * price)) *100, 6) as cost_percentage\n",
    "FROM transaction_history\n",
    "GROUP BY user_id\n",
    "ORDER BY user_id\n",
    ";"
   ]
  },
  {
   "cell_type": "markdown",
   "id": "f262cb84",
   "metadata": {},
   "source": [
    "### Moving Averages and Trading Signals\n",
    "\n",
    "I used moving averages on 10 and 30 days to generate trading signals at crossovers. To do so I first created a CTE to calculate the moving averages, and then used it in a CASE statement to generate 'BUY', 'SELL' and 'HOLD' orders."
   ]
  },
  {
   "cell_type": "code",
   "execution_count": null,
   "id": "a1f58680",
   "metadata": {
    "vscode": {
     "languageId": "sql"
    }
   },
   "outputs": [],
   "source": [
    "WITH moving_averages as (\n",
    "    SELECT\n",
    "        stock_id,\n",
    "        trade_date,\n",
    "        close_price,\n",
    "        AVG(close_price) OVER (PARTITION BY stock_id ORDER BY trade_date ROWS BETWEEN 9 PRECEDING AND CURRENT ROW) as mav_10,\n",
    "        AVG(close_price) OVER (PARTITION BY stock_id ORDER BY trade_date ROWS BETWEEN 29 PRECEDING AND CURRENT ROW) as mav_30\n",
    "    FROM stock_price_history\n",
    ")\n",
    "\n",
    "SELECT \n",
    "    stock_id,\n",
    "    trade_date,\n",
    "    close_price,\n",
    "    CASE\n",
    "        WHEN mav_10 > mav_30 \n",
    "            AND LAG(mav_10) OVER (PARTITION BY stock_id ORDER BY trade_date) <= LAG(mav_30) OVER (PARTITION BY stock_id ORDER BY trade_date)\n",
    "            THEN 'BUY'\n",
    "        WHEN mav_10 < mav_30 \n",
    "            AND LAG(mav_10) OVER (PARTITION BY stock_id ORDER BY trade_date) >= LAG(mav_30) OVER (PARTITION BY stock_id ORDER BY trade_date)\n",
    "            THEN 'SELL'\n",
    "        ELSE 'HOLD'\n",
    "    END AS signal\n",
    "FROM moving_averages\n",
    ";"
   ]
  },
  {
   "cell_type": "markdown",
   "id": "faff65f6",
   "metadata": {},
   "source": [
    "### Realized and Unrealized Gains\n",
    "\n",
    "In a CTE, I used the transaction types and a CASE statement to calculate separetly the quantity bought and sold, as well as the total costs from buying and proceeds from sells, which are then used in the final analysis."
   ]
  },
  {
   "cell_type": "code",
   "execution_count": null,
   "id": "951c3acd",
   "metadata": {
    "vscode": {
     "languageId": "sql"
    }
   },
   "outputs": [],
   "source": [
    "WITH transactions_agg AS (\n",
    "    SELECT\n",
    "        user_id,\n",
    "        stock_id,\n",
    "        SUM(CASE WHEN transaction_type = 'BUY' THEN quantity ELSE 0 END) AS total_bought,\n",
    "        SUM(CASE WHEN transaction_type = 'SELL' THEN quantity ELSE 0 END) AS total_sold,\n",
    "        SUM(CASE WHEN transaction_type = 'BUY' THEN quantity * price ELSE 0 END) AS total_cost_buys,\n",
    "        SUM(CASE WHEN transaction_type = 'SELL' THEN quantity * price ELSE 0 END) AS total_proceeds_sells\n",
    "    FROM transaction_history\n",
    "    GROUP BY user_id, stock_id\n",
    ")\n",
    "\n",
    "SELECT\n",
    "    p.user_id,\n",
    "    p.stock_id,\n",
    "    ta.total_cost_buys,\n",
    "    ta.total_proceeds_sells,\n",
    "    (ta.total_proceeds_sells - (ta.total_cost_buys / NULLIF(ta.total_bought, 0) * ta.total_sold)) AS realized_gain,\n",
    "    (p.quantity * c.stock_price - ((ta.total_cost_buys / NULLIF(ta.total_bought, 0)) * p.quantity)) AS unrealized_gain\n",
    "FROM portfolio p\n",
    "JOIN company c ON p.stock_id = c.stock_id\n",
    "LEFT JOIN transactions_agg ta ON p.user_id = ta.user_id AND p.stock_id = ta.stock_id\n",
    ";"
   ]
  }
 ],
 "metadata": {
  "language_info": {
   "name": "python"
  }
 },
 "nbformat": 4,
 "nbformat_minor": 5
}
